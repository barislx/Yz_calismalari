{
  "nbformat": 4,
  "nbformat_minor": 0,
  "metadata": {
    "colab": {
      "provenance": []
    },
    "kernelspec": {
      "name": "python3",
      "display_name": "Python 3"
    },
    "language_info": {
      "name": "python"
    }
  },
  "cells": [
    {
      "cell_type": "code",
      "execution_count": null,
      "metadata": {
        "colab": {
          "base_uri": "https://localhost:8080/"
        },
        "id": "vUpiYed-Krx-",
        "outputId": "307129ce-48da-49ff-ad2f-dc11181d8843"
      },
      "outputs": [
        {
          "output_type": "stream",
          "name": "stdout",
          "text": [
            "Merhaba IGU MYO YZ Dersim 2.Hafta\n"
          ]
        }
      ],
      "source": [
        "print(\"Merhaba IGU MYO YZ Dersim 2.Hafta\") #YAPAY ZEKA DERSI"
      ]
    },
    {
      "cell_type": "code",
      "source": [
        "import sys #import pyhton programlama dilinde yazılıma kütüphane eklemeye yarar kod\n",
        "print(sys.version)"
      ],
      "metadata": {
        "colab": {
          "base_uri": "https://localhost:8080/"
        },
        "id": "wnl239MOK3B6",
        "outputId": "4caa51cb-918a-4914-a82b-d15349e3d237"
      },
      "execution_count": null,
      "outputs": [
        {
          "output_type": "stream",
          "name": "stdout",
          "text": [
            "3.10.12 (main, Sep 11 2024, 15:47:36) [GCC 11.4.0]\n"
          ]
        }
      ]
    },
    {
      "cell_type": "code",
      "source": [
        "from google.colab import drive #google colab - drive baglantısı\n",
        "drive.mount ('/content/drive')"
      ],
      "metadata": {
        "colab": {
          "base_uri": "https://localhost:8080/"
        },
        "id": "WOibkTt8K4xi",
        "outputId": "48caff9a-587d-4380-8f0f-79c04a86ae90"
      },
      "execution_count": null,
      "outputs": [
        {
          "output_type": "stream",
          "name": "stdout",
          "text": [
            "Mounted at /content/drive\n"
          ]
        }
      ]
    },
    {
      "cell_type": "code",
      "source": [
        "import os\n",
        "os.chdir('/content/drive/My Drive/Yapay_Zeka_Dersim')\n",
        "#!pwd #bize kodun çıktısını dosya yolu olarak veren kod bloğudur."
      ],
      "metadata": {
        "id": "uufQGHItLEeI"
      },
      "execution_count": null,
      "outputs": []
    },
    {
      "cell_type": "code",
      "source": [
        "\n",
        "# CPU ve GPU teknolojisinin kullanımına göre olması gereken veri sayısı tablosu\n",
        "\n",
        "import pandas as pd\n",
        "\n",
        "tablo = {\n",
        "    \"Aralık\": [\"Küçük ölçekli\", \"Orta ölçekli\", \"Büyük ölçekli\", \"Hiper ölçekli\", \"Exascale\"],\n",
        "    \"Veri Sayısı\": [\"100 - 10,000\", \"10,000 - 100,000\", \"100,000 - Milyon\",  \"Milyon - Milyar\", \"Milyar - Trilyon\"],\n",
        "    \"CPU\": [\"Evet\", \"Evet\", \"Opsiyonel\", \"Hayır\", \"Hayır\"],\n",
        "    \"GPU\": [\"Hayır\", \"Opsiyonel\", \"Evet\", \"Evet\", \"Evet\"]\n",
        "}\n",
        "\n",
        "print(pd.DataFrame(tablo))"
      ],
      "metadata": {
        "colab": {
          "base_uri": "https://localhost:8080/"
        },
        "id": "WwnHbRJ0P2bn",
        "outputId": "207aafe7-a1b6-4414-a8c0-c781de430469"
      },
      "execution_count": null,
      "outputs": [
        {
          "output_type": "stream",
          "name": "stdout",
          "text": [
            "          Aralık       Veri Sayısı        CPU        GPU\n",
            "0  Küçük ölçekli      100 - 10,000       Evet      Hayır\n",
            "1   Orta ölçekli  10,000 - 100,000       Evet  Opsiyonel\n",
            "2  Büyük ölçekli  100,000 - Milyon  Opsiyonel       Evet\n",
            "3  Hiper ölçekli   Milyon - Milyar      Hayır       Evet\n",
            "4       Exascale  Milyar - Trilyon      Hayır       Evet\n"
          ]
        }
      ]
    },
    {
      "cell_type": "code",
      "source": [
        "\n",
        "\n",
        "import pandas as pd\n",
        "\n",
        "# True Positive (TP), True Negative (TN), False Positive (FP), False Negative (FN)\n",
        "matris_bilgisi = {\n",
        "    \"Gerçek Pozitif\": [\"Doğru Pozitif (TP)\", \"Yanlış Negatif (FN)\"],\n",
        "    \"Gerçek Negatif\": [\"Yanlış Pozitif (FP)\", \"Doğru Negatif (TN)\"]\n",
        "}\n",
        "\n",
        "# DataFrame oluşturma\n",
        "matris = pd.DataFrame(matris_bilgisi, index=[\"Tahmin Pozitif\", \"Tahmin Negatif\"])\n",
        "\n",
        "# Tabloyu gösterme\n",
        "print(matris)"
      ],
      "metadata": {
        "colab": {
          "base_uri": "https://localhost:8080/"
        },
        "id": "VDN9pAaBS13w",
        "outputId": "1755fc45-a471-43a7-b742-5817efcd4e9b"
      },
      "execution_count": null,
      "outputs": [
        {
          "output_type": "stream",
          "name": "stdout",
          "text": [
            "                     Gerçek Pozitif       Gerçek Negatif\n",
            "Tahmin Pozitif   Doğru Pozitif (TP)  Yanlış Pozitif (FP)\n",
            "Tahmin Negatif  Yanlış Negatif (FN)   Doğru Negatif (TN)\n"
          ]
        }
      ]
    },
    {
      "cell_type": "code",
      "source": [
        "\n",
        "# Scikit-Learn kütüphanesinin sisteme dahil edilmesi ve veri setinin işleme alınması\n",
        "\n",
        "!pip install -U scikit-learn"
      ],
      "metadata": {
        "colab": {
          "base_uri": "https://localhost:8080/"
        },
        "id": "kCqM_WX1U2FJ",
        "outputId": "0fc2f71d-2ab0-4704-beed-c7bc41276878"
      },
      "execution_count": null,
      "outputs": [
        {
          "output_type": "stream",
          "name": "stdout",
          "text": [
            "Requirement already satisfied: scikit-learn in /usr/local/lib/python3.10/dist-packages (1.5.2)\n",
            "Requirement already satisfied: numpy>=1.19.5 in /usr/local/lib/python3.10/dist-packages (from scikit-learn) (1.26.4)\n",
            "Requirement already satisfied: scipy>=1.6.0 in /usr/local/lib/python3.10/dist-packages (from scikit-learn) (1.13.1)\n",
            "Requirement already satisfied: joblib>=1.2.0 in /usr/local/lib/python3.10/dist-packages (from scikit-learn) (1.4.2)\n",
            "Requirement already satisfied: threadpoolctl>=3.1.0 in /usr/local/lib/python3.10/dist-packages (from scikit-learn) (3.5.0)\n"
          ]
        }
      ]
    },
    {
      "cell_type": "code",
      "source": [
        "from sklearn.datasets import fetch_california_housing\n",
        "import pandas as pd # VERİ YAPISI\n",
        "\n",
        "# California Housing veri setini yükleme\n",
        "housing = fetch_california_housing()\n",
        "\n",
        "# Özellikleri ve hedef değişkeni almak\n",
        "X = housing.data  # Bağımsız değişkenler (özellikler)\n",
        "y = housing.target  # Bağımlı değişken (fiyatlar)\n",
        "\n",
        "# Verileri bir DataFrame'e dönüştürme\n",
        "df = pd.DataFrame(X, columns=housing.feature_names)\n",
        "df['PRICE'] = y\n",
        "\n",
        "# İlk birkaç satırı görüntüleme\n",
        "print(df.head())\n",
        "\n"
      ],
      "metadata": {
        "colab": {
          "base_uri": "https://localhost:8080/"
        },
        "id": "tha7_-NpVM4p",
        "outputId": "25de4abe-332c-4c3f-91c0-65c77739ab67"
      },
      "execution_count": null,
      "outputs": [
        {
          "output_type": "stream",
          "name": "stdout",
          "text": [
            "   MedInc  HouseAge  AveRooms  AveBedrms  Population  AveOccup  Latitude  \\\n",
            "0  8.3252      41.0  6.984127   1.023810       322.0  2.555556     37.88   \n",
            "1  8.3014      21.0  6.238137   0.971880      2401.0  2.109842     37.86   \n",
            "2  7.2574      52.0  8.288136   1.073446       496.0  2.802260     37.85   \n",
            "3  5.6431      52.0  5.817352   1.073059       558.0  2.547945     37.85   \n",
            "4  3.8462      52.0  6.281853   1.081081       565.0  2.181467     37.85   \n",
            "\n",
            "   Longitude  PRICE  \n",
            "0    -122.23  4.526  \n",
            "1    -122.22  3.585  \n",
            "2    -122.24  3.521  \n",
            "3    -122.25  3.413  \n",
            "4    -122.25  3.422  \n"
          ]
        }
      ]
    },
    {
      "cell_type": "code",
      "source": [],
      "metadata": {
        "id": "Gg8oHeM3X4OK"
      },
      "execution_count": null,
      "outputs": []
    }
  ]
}