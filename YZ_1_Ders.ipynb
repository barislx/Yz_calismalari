{
  "nbformat": 4,
  "nbformat_minor": 0,
  "metadata": {
    "colab": {
      "provenance": []
    },
    "kernelspec": {
      "name": "python3",
      "display_name": "Python 3"
    },
    "language_info": {
      "name": "python"
    }
  },
  "cells": [
    {
      "cell_type": "markdown",
      "source": [
        "03.10.2024 - IGU YAPAY ZEKA MYO BILGISAYAR TEKNOLOJISI ILK KODLAMA CIKTISI"
      ],
      "metadata": {
        "id": "dAmQYdcGYCYX"
      }
    },
    {
      "cell_type": "code",
      "execution_count": 2,
      "metadata": {
        "colab": {
          "base_uri": "https://localhost:8080/"
        },
        "id": "Qr2jRio0XYyY",
        "outputId": "d562fab5-245c-4ef0-d312-6c4076367eb3"
      },
      "outputs": [
        {
          "output_type": "stream",
          "name": "stdout",
          "text": [
            "Merhaba IGU MYO YZ Dersim\n"
          ]
        }
      ],
      "source": [
        "print(\"Merhaba IGU MYO YZ Dersim\") #YAPAY ZEKA DERSI"
      ]
    },
    {
      "cell_type": "code",
      "source": [
        "import sys #import pyhton programlama dilinde yazılıma kütüphane eklemeye yarar kod\n",
        "print(sys.version)"
      ],
      "metadata": {
        "colab": {
          "base_uri": "https://localhost:8080/"
        },
        "id": "Quhn8cH3jkz6",
        "outputId": "fe989880-0ec6-4634-c4bf-ced2a64fb94c"
      },
      "execution_count": 3,
      "outputs": [
        {
          "output_type": "stream",
          "name": "stdout",
          "text": [
            "3.10.12 (main, Sep 11 2024, 15:47:36) [GCC 11.4.0]\n"
          ]
        }
      ]
    },
    {
      "cell_type": "code",
      "source": [
        "from google.colab import drive #google colab - drive baglantısı\n",
        "drive.mount ('/content/drive')"
      ],
      "metadata": {
        "colab": {
          "base_uri": "https://localhost:8080/"
        },
        "id": "ZVyk7Vzck6pv",
        "outputId": "8bfe5696-45f0-4f44-c2a0-699fcf7823d7"
      },
      "execution_count": 4,
      "outputs": [
        {
          "output_type": "stream",
          "name": "stdout",
          "text": [
            "Mounted at /content/drive\n"
          ]
        }
      ]
    },
    {
      "cell_type": "code",
      "source": [
        "import os\n",
        "os.chdir('/content/drive/My Drive/Yapay_Zeka_Dersim')\n",
        "#!pwd #bize kodun çıktısını dosya yolu olarak veren kod bloğudur."
      ],
      "metadata": {
        "id": "BYBnbs52lePH"
      },
      "execution_count": 8,
      "outputs": []
    }
  ]
}